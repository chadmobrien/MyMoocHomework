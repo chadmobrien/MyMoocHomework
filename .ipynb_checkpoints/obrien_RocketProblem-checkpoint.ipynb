{
 "metadata": {
  "name": "",
  "signature": "sha256:8caa148dcc3aa43720d19503ccb4e9cd796d0d0b689470cf8540bb8dcab641a0"
 },
 "nbformat": 3,
 "nbformat_minor": 0,
 "worksheets": [
  {
   "cells": [
    {
     "cell_type": "heading",
     "level": 1,
     "metadata": {},
     "source": [
      "<h1 align=\"center\"> Chad O'Brien - Rocket Euler Solution :</h1>\n",
      "<h2 align = \"center\">Difference in solution between Vector of Time inputs and a delta Time</h2>"
     ]
    },
    {
     "cell_type": "markdown",
     "metadata": {},
     "source": [
      "So, one of the things I noticed was a difference in solution between using two different types of inputs. In one case, I used the general input: $$\\begin{equation}{\\Delta{t}=0.1}\\end{equation}$$. In the other case, I used a vector of time using: $$numpy.linspace(0,50,501) \\approx [0.0,0.1,...50.0]$$ which produces an array with an approximate step of 0.1 due to precision in Python. What I am seeing is a considerable difference in the result of about 18 meters. "
     ]
    },
    {
     "cell_type": "code",
     "collapsed": false,
     "input": [
      "%matplotlib inline\n",
      "from math import ceil\n",
      "import time\n",
      "import numpy as np\n",
      "from matplotlib import pyplot as plt"
     ],
     "language": "python",
     "metadata": {},
     "outputs": [],
     "prompt_number": 1
    },
    {
     "cell_type": "heading",
     "level": 2,
     "metadata": {},
     "source": [
      "<h3 align = \"center\">Defining The Rocket Parameters:</h3>"
     ]
    },
    {
     "cell_type": "code",
     "collapsed": false,
     "input": [
      "# Begin Rocket Definition and Characteristics\n",
      "M_rocket = 50.0    # Mass of Rocket System/Airframe kg\n",
      "g   = 9.81         # Gravitational Acceleration m/s^2\n",
      "rho = 1.091        # Average Air Density kg/m^3\n",
      "r   = 0.5          # Radius of Vehicle Body m\n",
      "A   = np.pi*r**2.0 # Crossectional Area of Vehicle Body m^2\n",
      "Cd  = 0.15         # non-dimensional Drag Coeeficient\n",
      "Ve  = 325.0        # Exhaust Velocity m/s\n",
      "# End Rocket Definition and Characteristics"
     ],
     "language": "python",
     "metadata": {},
     "outputs": [],
     "prompt_number": 2
    },
    {
     "cell_type": "heading",
     "level": 2,
     "metadata": {},
     "source": [
      "<h3 align = \"center\">Definining the Equation of Motion:</h3>"
     ]
    },
    {
     "cell_type": "heading",
     "level": 6,
     "metadata": {},
     "source": [
      "Setting up basic differential system:"
     ]
    },
    {
     "cell_type": "code",
     "collapsed": false,
     "input": [
      "def ydot(t,y):\n",
      "    # y[0] = mass\n",
      "    # y[1] = position\n",
      "    # y[2] = velocity\n",
      "    mdot = 20.0*step(0,5,t)                                         # Mass Change Rate\n",
      "    ydot = y[2]                                                         # Altitude Change Rate\n",
      "    y2dot = -g + (mdot*Ve - np.sign(y[2])*0.5*rho*((y[2])**2)*A*Cd)/y[0]# Velocity Change Rate\n",
      "    # In certain cases and from experience, real motors have a start up time which the rocket stays on the launch pad.\n",
      "    # In this case, it sets the acceleration to 0 until the thrust is great enought to overcome gravity.\n",
      "    if y2dot < g and t < 2.5: # if net acceleration < gravity : the rocket doesn't move.\n",
      "        y2dot = 0.0\n",
      "    return np.array([-mdot, ydot, y2dot]) # Returns a system array of the differential value at time t and conditions Y"
     ],
     "language": "python",
     "metadata": {},
     "outputs": [],
     "prompt_number": 3
    },
    {
     "cell_type": "heading",
     "level": 6,
     "metadata": {},
     "source": [
      "Associated Step function for controlling mass flow rate:"
     ]
    },
    {
     "cell_type": "code",
     "collapsed": false,
     "input": [
      "def step(tstart, tstop, t):\n",
      "    val = 0\n",
      "    if (not np.allclose(t,tstop)) and  t < tstop and t >= tstart:\n",
      "        val = 1\n",
      "    return val"
     ],
     "language": "python",
     "metadata": {},
     "outputs": [],
     "prompt_number": 4
    },
    {
     "cell_type": "heading",
     "level": 2,
     "metadata": {},
     "source": [
      "<h3 align=\"center\">Setting up initial conditions:</h3><br>\n",
      "$Time = 0.0 seconds$"
     ]
    },
    {
     "cell_type": "code",
     "collapsed": false,
     "input": [
      "# Begin Initial Condition Configuration\n",
      "M_Propellant_T0 = 100.0                 # Initial Propellant Mass kg\n",
      "V_T0 = 0.0                              # Vehicle Velocity m/s\n",
      "H_T0 = 0.0                              # Vehicle Altitude m\n",
      "M_Total_T0 = M_rocket + M_Propellant_T0 # Total System Mass\n",
      "# End Initial Conditions Configuration"
     ],
     "language": "python",
     "metadata": {},
     "outputs": [],
     "prompt_number": 5
    },
    {
     "cell_type": "heading",
     "level": 2,
     "metadata": {},
     "source": [
      "<h3 align=\"center\">Defining the Two Euler Methods:</h3>"
     ]
    },
    {
     "cell_type": "heading",
     "level": 6,
     "metadata": {},
     "source": [
      "Basic Euler based on constant $\\Delta{t}$:"
     ]
    },
    {
     "cell_type": "code",
     "collapsed": false,
     "input": [
      "def thisEuler(diff, t, deltaT, initcond):\n",
      "    return initcond + deltaT*diff(t,initcond)"
     ],
     "language": "python",
     "metadata": {},
     "outputs": [],
     "prompt_number": 6
    },
    {
     "cell_type": "heading",
     "level": 6,
     "metadata": {},
     "source": [
      "Basic Euler based on Time Vector:<br>\n",
      "<i><font size=\"1\">Please note that some of this is overdone because it was stripped out of a larger package I'm building to store ode solvers.</font></i>"
     ]
    },
    {
     "cell_type": "code",
     "collapsed": false,
     "input": [
      "def ODE(diffFunc, tspan, initcond):\n",
      "#    - > diffFunc - the function which defines the first order ODE\n",
      "#    - > tspan - time Domain\n",
      "#    - > initcond - initial conditions satisfied at tspan[0]\n",
      "    n = np.size(tspan)        # find the max number of iterations\n",
      "    n1 = np.size(initcond)    # finds nummber of differential equations\n",
      "\n",
      "    #Initializing storage array for solutions\n",
      "    T = np.empty((1,1))\n",
      "    Y = np.empty((1,n1))\n",
      "    # Initializing 0\n",
      "\n",
      "    T[0] = tspan[0]\n",
      "    Y[0] = initcond\n",
      "    print \"Starting Solution...\"\n",
      "    print \"T0:\" + str(T[0])\n",
      "    print \"Y0:\" + str(Y[0])\n",
      "    \n",
      "    for index in range(1,n):\n",
      "        \n",
      "        # Prediction Step Time Value\n",
      "        T_n = tspan[index]\n",
      "        # Initial Conditions for next step\n",
      "        Y_nm1 = Y[index-1]\n",
      "        T_nm1 = T[index-1]\n",
      "       \n",
      "        # Step time delta\n",
      "        deltaT = T_n - T_nm1\n",
      "    \n",
      "        # Current Step\n",
      "        Y_n = thisEuler(ydot,T_nm1, deltaT,Y_nm1) # (differential system, T(n-1), Y(n-1), deltaTime\n",
      "        \n",
      "        # Appending Solution Vectors\n",
      "        Y = np.vstack((Y,Y_n))\n",
      "        T = np.vstack((T,T_n))\n",
      "        if Y_n[1] < 0.0 :\n",
      "            break\n",
      "    outRes = T,Y\n",
      "        \n",
      "    return outRes"
     ],
     "language": "python",
     "metadata": {},
     "outputs": [],
     "prompt_number": 7
    },
    {
     "cell_type": "heading",
     "level": 1,
     "metadata": {},
     "source": [
      "<h2 align = \"center\"> Calculate the Solution </h2>"
     ]
    },
    {
     "cell_type": "markdown",
     "metadata": {},
     "source": [
      "<h3>Basic Euler with $\\Delta t = 0.1 seconds$"
     ]
    },
    {
     "cell_type": "code",
     "collapsed": false,
     "input": [
      "# Super Basic Euler\n",
      "initcond = np.array([M_Total_T0,H_T0,V_T0])\n",
      "YS = np.empty((1,3))\n",
      "TS = np.empty((1,1))\n",
      "YS[0] = initcond\n",
      "TS[0] = 0.0\n",
      "dT = 0.1\n",
      "time0 = time.time()\n",
      "for sbindex in range(1,376):\n",
      "    t = TS[sbindex-1]\n",
      "    y0 = YS[sbindex-1]\n",
      "    ynew = thisEuler(ydot,t,dT,y0)\n",
      "    TS = np.vstack((TS,t+dT))\n",
      "    YS = np.vstack((YS,ynew))\n",
      "time1 = time.time()\n",
      "print \"Computation Time:\" + str(time1-time0)\n",
      "maxIndex = np.argmax(YS[:,1]) # find max altitude index\n",
      "maxAltitude = YS[maxIndex,1]\n",
      "TimeMaxAltitude = TS[maxIndex,0]\n",
      "print \"Altitude Max Basic Euler: \" + str(maxAltitude)\n",
      "print \"At Time: T=\" + str(TimeMaxAltitude)\n",
      "maxVIndex = np.argmax(YS[:,2]) # find max altitude index\n",
      "maxVel = YS[maxVIndex,1]\n",
      "TimeMaxVel = TS[maxVIndex,0]\n",
      "AltAtMaxVel = YS[maxVIndex,1]\n",
      "print \"Velocity Max Basic Euler: \" + str(maxVel)\n",
      "print \"At Time: T=\" + str(TimeMaxVel)\n",
      "plt.figure(1)\n",
      "plt.plot(TS,YS[:,0],TS,YS[:,1],TS,YS[:,2])\n",
      "plt.legend(['Mass (kg)','Altitude (m)','Velocity (m/s)']) \n",
      "plt.xlabel('Time')\n",
      "plt.ylabel('Solution Value')"
     ],
     "language": "python",
     "metadata": {},
     "outputs": [
      {
       "output_type": "stream",
       "stream": "stdout",
       "text": [
        "Altitude Max Basic Euler: 1334.18294543\n",
        "At Time: T=15.7\n",
        "Velocity Max Basic Euler: 523.522834292\n",
        "At Time: T=5.0\n"
       ]
      },
      {
       "metadata": {},
       "output_type": "pyout",
       "prompt_number": 13,
       "text": [
        "<matplotlib.text.Text at 0xbb20ef0>"
       ]
      },
      {
       "metadata": {},
       "output_type": "display_data",
       "png": "[encoded data removed]",
       "text": [
        "<matplotlib.figure.Figure at 0xaa39160>"
       ]
      }
     ],
     "prompt_number": 13
    },
    {
     "cell_type": "markdown",
     "metadata": {},
     "source": [
      "<h3>Basic Euler with Time Vector: </h3>"
     ]
    },
    {
     "cell_type": "code",
     "collapsed": false,
     "input": [
      "# Normal Euler method with tvector\n",
      "tvec = np.linspace(0.0,50.0,501)\n",
      "TR,YR = ODE(ydot,tvec,initcond)\n",
      "maxIndex = np.argmax(YR[:,1]) # find max altitude index\n",
      "maxAltitude = YR[maxIndex,1]\n",
      "TimeMaxAltitude = TR[maxIndex,0]\n",
      "print \"Altitude Max Basic Euler: \" + str(maxAltitude)\n",
      "print \"At Time: T=\" + str(TimeMaxAltitude)\n",
      "maxVIndex = np.argmax(YR[:,2]) # find max altitude index\n",
      "maxVel = YR[maxVIndex,1]\n",
      "TimeMaxVel = TR[maxVIndex,0]\n",
      "AltAtMaxVel = YR[maxVIndex,1]\n",
      "print \"Velocity Max Basic Euler: \" + str(maxVel)\n",
      "print \"At Time: T=\" + str(TimeMaxVel)\n",
      "plt.figure(2)\n",
      "plt.plot(TR,YR[:,0],TR,YR[:,1],TR,YR[:,2])\n",
      "plt.legend(['Mass (kg)','Altitude (m)','Velocity (m/s)']) \n",
      "plt.xlabel('Time')\n",
      "plt.ylabel('Solution Value')"
     ],
     "language": "python",
     "metadata": {},
     "outputs": [
      {
       "output_type": "stream",
       "stream": "stdout",
       "text": [
        "Starting Solution...\n",
        "T0:[ 0.]\n",
        "Y0:[ 150.    0.    0.]\n",
        "Altitude Max Basic Euler: 1334.18294543"
       ]
      },
      {
       "output_type": "stream",
       "stream": "stdout",
       "text": [
        "\n",
        "At Time: T=15.7\n",
        "Velocity Max Basic Euler: 523.522834292\n",
        "At Time: T=5.0\n"
       ]
      },
      {
       "metadata": {},
       "output_type": "pyout",
       "prompt_number": 9,
       "text": [
        "<matplotlib.text.Text at 0xaddc908>"
       ]
      },
      {
       "metadata": {},
       "output_type": "display_data",
       "png": "[encoded data removed]",
       "text": [
        "<matplotlib.figure.Figure at 0xaabb470>"
       ]
      }
     ],
     "prompt_number": 9
    },
    {
     "cell_type": "markdown",
     "metadata": {},
     "source": []
    },
    {
     "cell_type": "code",
     "collapsed": false,
     "input": [],
     "language": "python",
     "metadata": {},
     "outputs": [],
     "prompt_number": 9
    }
   ],
   "metadata": {}
  }
 ]
}