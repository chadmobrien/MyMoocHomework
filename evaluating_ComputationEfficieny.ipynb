{
 "metadata": {
  "name": "",
  "signature": "sha256:45b41539bd79a805af1ff3c1f45965a0444a6992e17ebb9fbd344e24315268f2"
 },
 "nbformat": 3,
 "nbformat_minor": 0,
 "worksheets": [
  {
   "cells": [
    {
     "cell_type": "code",
     "collapsed": false,
     "input": [
      "%matplotlib inline\n",
      "import math\n",
      "import time\n",
      "import numpy as np\n",
      "from matplotlib import pyplot as plt"
     ],
     "language": "python",
     "metadata": {},
     "outputs": [],
     "prompt_number": 14
    },
    {
     "cell_type": "heading",
     "level": 2,
     "metadata": {},
     "source": [
      "<h3 align = \"center\">Defining The Rocket Parameters:</h3>"
     ]
    },
    {
     "cell_type": "code",
     "collapsed": false,
     "input": [
      "# Begin Rocket Definition and Characteristics\n",
      "M_rocket = 50.0    # Mass of Rocket System/Airframe kg\n",
      "g   = 9.81         # Gravitational Acceleration m/s^2\n",
      "rho = 1.091        # Average Air Density kg/m^3\n",
      "r   = 0.5          # Radius of Vehicle Body m\n",
      "A   = np.pi*r**2.0 # Crossectional Area of Vehicle Body m^2\n",
      "Cd  = 0.15         # non-dimensional Drag Coeeficient\n",
      "Ve  = 325.0        # Exhaust Velocity m/s\n",
      "# End Rocket Definition and Characteristics"
     ],
     "language": "python",
     "metadata": {},
     "outputs": [],
     "prompt_number": 15
    },
    {
     "cell_type": "heading",
     "level": 2,
     "metadata": {},
     "source": [
      "<h3 align = \"center\">Definining the Equation of Motion:</h3>"
     ]
    },
    {
     "cell_type": "heading",
     "level": 6,
     "metadata": {},
     "source": [
      "Setting up basic differential system:"
     ]
    },
    {
     "cell_type": "code",
     "collapsed": false,
     "input": [
      "def ydot(t,y):\n",
      "    # y[0] = mass\n",
      "    # y[1] = position\n",
      "    # y[2] = velocity\n",
      "    mdot = 20.0*step(0,5,t)                                         # Mass Change Rate\n",
      "    ydot = y[2]                                                         # Altitude Change Rate\n",
      "    y2dot = -g + (mdot*Ve - np.sign(y[2])*0.5*rho*((y[2])**2)*A*Cd)/y[0]# Velocity Change Rate\n",
      "    # In certain cases and from experience, real motors have a start up time which the rocket stays on the launch pad.\n",
      "    # In this case, it sets the acceleration to 0 until the thrust is great enought to overcome gravity.\n",
      "    if y2dot < g and t < 2.5: # if net acceleration < gravity : the rocket doesn't move.\n",
      "        y2dot = 0.0\n",
      "    return np.array([-mdot, ydot, y2dot]) # Returns a system array of the differential value at time t and conditions Y"
     ],
     "language": "python",
     "metadata": {},
     "outputs": [],
     "prompt_number": 16
    },
    {
     "cell_type": "heading",
     "level": 6,
     "metadata": {},
     "source": [
      "Associated Step function for controlling mass flow rate:"
     ]
    },
    {
     "cell_type": "code",
     "collapsed": false,
     "input": [
      "def step(tstart, tstop, t):\n",
      "    val = 0\n",
      "    if (not np.allclose(t,tstop)) and  t < tstop and t >= tstart:\n",
      "        val = 1\n",
      "    return val"
     ],
     "language": "python",
     "metadata": {},
     "outputs": [],
     "prompt_number": 17
    },
    {
     "cell_type": "heading",
     "level": 2,
     "metadata": {},
     "source": [
      "<h3 align=\"center\">Setting up initial conditions:</h3><br>\n",
      "$Time = 0.0 seconds$"
     ]
    },
    {
     "cell_type": "code",
     "collapsed": false,
     "input": [
      "# Begin Initial Condition Configuration\n",
      "M_Propellant_T0 = 100.0                 # Initial Propellant Mass kg\n",
      "V_T0 = 0.0                              # Vehicle Velocity m/s\n",
      "H_T0 = 0.0                              # Vehicle Altitude m\n",
      "M_Total_T0 = M_rocket + M_Propellant_T0 # Total System Mass\n",
      "# End Initial Conditions Configuration"
     ],
     "language": "python",
     "metadata": {},
     "outputs": [],
     "prompt_number": 18
    },
    {
     "cell_type": "heading",
     "level": 2,
     "metadata": {},
     "source": [
      "<h3 align=\"center\">Defining the Two Euler Methods:</h3>"
     ]
    },
    {
     "cell_type": "heading",
     "level": 6,
     "metadata": {},
     "source": [
      "Basic Euler based on constant $\\Delta{t}$:"
     ]
    },
    {
     "cell_type": "code",
     "collapsed": false,
     "input": [
      "def thisEuler(diff, t, deltaT, initcond):\n",
      "    return initcond + deltaT*diff(t,initcond)"
     ],
     "language": "python",
     "metadata": {},
     "outputs": [],
     "prompt_number": 19
    },
    {
     "cell_type": "heading",
     "level": 6,
     "metadata": {},
     "source": [
      "Basic Euler based on Time Vector:<br>\n",
      "<i><font size=\"1\">Please note that some of this is overdone because it was stripped out of a larger package I'm building to store ode solvers.</font></i>"
     ]
    },
    {
     "cell_type": "code",
     "collapsed": false,
     "input": [
      "def ODE(diffFunc, tspan, initcond):\n",
      "#    - > diffFunc - the function which defines the first order ODE\n",
      "#    - > tspan - time Domain\n",
      "#    - > initcond - initial conditions satisfied at tspan[0]\n",
      "    n = np.size(tspan)        # find the max number of iterations\n",
      "    n1 = np.size(initcond)    # finds nummber of differential equations\n",
      "\n",
      "    #Initializing storage array for solutions\n",
      "    T = np.empty((1,1))\n",
      "    Y = np.empty((1,n1))\n",
      "    # Initializing 0\n",
      "\n",
      "    T[0] = tspan[0]\n",
      "    Y[0] = initcond\n",
      "    print \"Starting Solution...\"\n",
      "    print \"T0:\" + str(T[0])\n",
      "    print \"Y0:\" + str(Y[0])\n",
      "    \n",
      "    for index in range(1,n):\n",
      "        \n",
      "        # Prediction Step Time Value\n",
      "        T_n = tspan[index]\n",
      "        # Initial Conditions for next step\n",
      "        Y_nm1 = Y[index-1]\n",
      "        T_nm1 = T[index-1]\n",
      "       \n",
      "        # Step time delta\n",
      "        deltaT = T_n - T_nm1\n",
      "    \n",
      "        # Current Step\n",
      "        Y_n = thisEuler(ydot,T_nm1, deltaT,Y_nm1) # (differential system, T(n-1), Y(n-1), deltaTime\n",
      "        \n",
      "        # Appending Solution Vectors\n",
      "        Y = np.vstack((Y,Y_n))\n",
      "        T = np.vstack((T,T_n))\n",
      "        if Y_n[1] < 0.0 :\n",
      "            break\n",
      "    outRes = T,Y\n",
      "        \n",
      "    return outRes"
     ],
     "language": "python",
     "metadata": {},
     "outputs": [],
     "prompt_number": 20
    },
    {
     "cell_type": "heading",
     "level": 1,
     "metadata": {},
     "source": [
      "<h2 align = \"center\"> Calculate the Solution </h2>"
     ]
    },
    {
     "cell_type": "markdown",
     "metadata": {},
     "source": [
      "<h3>Basic Euler with $\\Delta t = 0.1 seconds$"
     ]
    },
    {
     "cell_type": "code",
     "collapsed": false,
     "input": [
      "# Super Basic Euler\n",
      "initcond = np.array([M_Total_T0,H_T0,V_T0])\n",
      "YS = np.empty((1,3))\n",
      "TS = np.empty((1,1))\n",
      "YS[0] = initcond\n",
      "TS[0] = 0.0\n",
      "delT = 0.1\n",
      "times = np.empty((3,2))\n",
      "for ttest in range(0,3):\n",
      "    dT = delT/(10**ttest)\n",
      "    time0 = time.clock()\n",
      "    for sbindex in range(1,376*(10**ttest)):\n",
      "        t = TS[sbindex-1]\n",
      "        y0 = YS[sbindex-1]\n",
      "        ynew = thisEuler(ydot,t,dT,y0)\n",
      "        TS = np.vstack((TS,t+dT))\n",
      "        YS = np.vstack((YS,ynew))\n",
      "    time1 = time.clock()\n",
      "    times[ttest,0] = dT\n",
      "    times[ttest,1] = time1-time0\n",
      "print \"Computation Table:\"\n",
      "print times\n",
      "plt.plot(-np.log10(times[:,0]),times[:,1])\n",
      "plt.xlabel('10^{-x} [s]')\n",
      "plt.ylabel('Computation Time (s)')\n",
      "plt.title('Euler TimeStep Efficiency')\n",
      "plt.savefig('C:\\\\Users\\\\Chad\\\\Desktop\\\\EfficiencyCalculation.jpg')"
     ],
     "language": "python",
     "metadata": {},
     "outputs": [
      {
       "output_type": "stream",
       "stream": "stdout",
       "text": [
        "Computation Table:\n",
        "[[  1.00000000e-01   6.18460639e-02]\n",
        " [  1.00000000e-02   6.04434602e-01]\n",
        " [  1.00000000e-03   1.13708527e+01]]\n"
       ]
      },
      {
       "metadata": {},
       "output_type": "display_data",
       "png": "[encoded data removed]",
       "text": [
        "<matplotlib.figure.Figure at 0xd2852b0>"
       ]
      }
     ],
     "prompt_number": 31
    },
    {
     "cell_type": "code",
     "collapsed": false,
     "input": [],
     "language": "python",
     "metadata": {},
     "outputs": []
    }
   ],
   "metadata": {}
  }
 ]
}